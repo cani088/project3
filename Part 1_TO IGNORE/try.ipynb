{
 "cells": [
  {
   "cell_type": "code",
   "execution_count": 11,
   "metadata": {},
   "outputs": [],
   "source": [
    "# Lint as: python3\n",
    "# Copyright 2019 Google LLC\n",
    "#\n",
    "# Licensed under the Apache License, Version 2.0 (the \"License\");\n",
    "# you may not use this file except in compliance with the License.\n",
    "# You may obtain a copy of the License at\n",
    "#\n",
    "#     https://www.apache.org/licenses/LICENSE-2.0\n",
    "#\n",
    "# Unless required by applicable law or agreed to in writing, software\n",
    "# distributed under the License is distributed on an \"AS IS\" BASIS,\n",
    "# WITHOUT WARRANTIES OR CONDITIONS OF ANY KIND, either express or implied.\n",
    "# See the License for the specific language governing permissions and\n",
    "# limitations under the License.\n",
    "\n",
    "from PIL import Image\n",
    "from PIL import ImageDraw\n",
    "import os\n",
    "import detect\n",
    "import tflite\n",
    "import platform\n",
    "import datetime\n",
    "import cv2\n",
    "import time\n",
    "import numpy as np\n",
    "import io\n",
    "from io import BytesIO\n",
    "from flask import Flask, request, Response, jsonify\n",
    "import random\n",
    "import re\n",
    "import tensorflow as tf\n",
    "\n",
    "import tensorflow_hub as hub\n",
    "\n",
    "# For downloading the image.\n",
    "import matplotlib.pyplot as plt\n",
    "import tempfile\n",
    "from six.moves.urllib.request import urlopen\n",
    "from six import BytesIO\n",
    "\n",
    "# For drawing onto the image.\n",
    "import numpy as np\n",
    "from PIL import Image\n",
    "from PIL import ImageColor\n",
    "from PIL import ImageDraw\n",
    "from PIL import ImageFont\n",
    "from PIL import ImageOps\n",
    "\n",
    "# For measuring the inference time.\n",
    "import time"
   ]
  },
  {
   "cell_type": "code",
   "execution_count": 26,
   "metadata": {},
   "outputs": [
    {
     "name": "stdout",
     "output_type": "stream",
     "text": [
      "INFO:tensorflow:Saver not created because there are no variables in the graph to restore\n"
     ]
    },
    {
     "name": "stderr",
     "output_type": "stream",
     "text": [
      "INFO:tensorflow:Saver not created because there are no variables in the graph to restore\n"
     ]
    }
   ],
   "source": [
    "module_handle = \"https://tfhub.dev/google/openimages_v4/ssd/mobilenet_v2/1\" \n",
    "detector = hub.load(module_handle).signatures['default']"
   ]
  },
  {
   "cell_type": "code",
   "execution_count": 51,
   "metadata": {},
   "outputs": [],
   "source": [
    "def download_and_resize_image(url, new_width=256, new_height=256, display=False):\n",
    "    # Check if the image has already been downloaded\n",
    "    _, filename = tempfile.mkstemp(suffix=\".jpg\")\n",
    "    response = urlopen(url)\n",
    "    image_data = response.read()\n",
    "    image_data = BytesIO(image_data)\n",
    "    pil_image = Image.open(image_data)\n",
    "    pil_image = ImageOps.fit(pil_image, (new_width, new_height), Image.ANTIALIAS)\n",
    "    pil_image_rgb = pil_image.convert(\"RGB\")\n",
    "    pil_image_rgb.save(filename, format=\"JPEG\", quality=90)\n",
    "    print(\"Image downloaded to %s.\" % filename)\n",
    "    return filename\n",
    "\n",
    "\n",
    "def load_img(path):\n",
    "  img = tf.io.read_file(path)\n",
    "  img = tf.image.decode_jpeg(img, channels=3)\n",
    "  return img\n",
    "\n",
    "\n",
    "\n",
    "def detection_loop(detector, images_url):\n",
    "    r=[]\n",
    "    for url in images_url:\n",
    "        img=downloaded_image_path = download_and_resize_image(url, 1280, 856, True)\n",
    "        img = tf.io.read_file(img)\n",
    "        img = tf.image.decode_jpeg(img, channels=3)\n",
    "        converted_img  = tf.image.convert_image_dtype(img, tf.float32)[tf.newaxis, ...]\n",
    "        start_time = time.time()\n",
    "        result = detector(converted_img)\n",
    "        end_time = time.time()\n",
    "        #result = {key:value.numpy() for key,value in result.items()}\n",
    "        #print(\"Found %d objects.\" % len(result[\"detection_scores\"]))\n",
    "        #print(result[\"detection_class_entities\"])\n",
    "        # Print available attributes in the result dictionary\n",
    "        #r.append(result[\"detection_class_entities\"])\n",
    "        r.append(np.unique(np.array(result[\"detection_class_entities\"])).astype(str))\n",
    "    return r"
   ]
  },
  {
   "cell_type": "code",
   "execution_count": 53,
   "metadata": {},
   "outputs": [
    {
     "name": "stderr",
     "output_type": "stream",
     "text": [
      "C:\\Users\\awtfh\\AppData\\Local\\Temp\\ipykernel_20772\\1093504412.py:8: DeprecationWarning: ANTIALIAS is deprecated and will be removed in Pillow 10 (2023-07-01). Use Resampling.LANCZOS instead.\n",
      "  pil_image = ImageOps.fit(pil_image, (new_width, new_height), Image.ANTIALIAS)\n"
     ]
    },
    {
     "name": "stdout",
     "output_type": "stream",
     "text": [
      "Image downloaded to C:\\Users\\awtfh\\AppData\\Local\\Temp\\tmp5rx3fjth.jpg.\n",
      "Image downloaded to C:\\Users\\awtfh\\AppData\\Local\\Temp\\tmpka9t98vg.jpg.\n"
     ]
    }
   ],
   "source": [
    "images_url = [\"https://upload.wikimedia.org/wikipedia/commons/6/60/Naxos_Taverna.jpg\",\n",
    "              \"https://upload.wikimedia.org/wikipedia/commons/0/09/The_smaller_British_birds_%288053836633%29.jpg\"]  #@param\n",
    "\n",
    "r1= detection_loop(detector, images_url)"
   ]
  },
  {
   "cell_type": "code",
   "execution_count": 54,
   "metadata": {},
   "outputs": [
    {
     "data": {
      "text/plain": [
       "[array(['Chair', 'Flower', 'Kitchen & dining room table', 'Person',\n",
       "        'Porch', 'Table', 'Tree', 'Umbrella', 'Window'], dtype='<U27'),\n",
       " array(['Bird', 'Flower', 'Plant', 'Tree'], dtype='<U6')]"
      ]
     },
     "execution_count": 54,
     "metadata": {},
     "output_type": "execute_result"
    }
   ],
   "source": [
    "#np.unique(np.array(r1[0])).astype(str)\n",
    "r1"
   ]
  },
  {
   "cell_type": "code",
   "execution_count": null,
   "metadata": {},
   "outputs": [],
   "source": []
  }
 ],
 "metadata": {
  "kernelspec": {
   "display_name": "Python 3",
   "language": "python",
   "name": "python3"
  },
  "language_info": {
   "codemirror_mode": {
    "name": "ipython",
    "version": 3
   },
   "file_extension": ".py",
   "mimetype": "text/x-python",
   "name": "python",
   "nbconvert_exporter": "python",
   "pygments_lexer": "ipython3",
   "version": "3.11.1"
  },
  "orig_nbformat": 4
 },
 "nbformat": 4,
 "nbformat_minor": 2
}
